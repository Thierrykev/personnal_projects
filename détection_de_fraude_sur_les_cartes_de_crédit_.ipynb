{
  "nbformat": 4,
  "nbformat_minor": 0,
  "metadata": {
    "colab": {
      "provenance": [],
      "private_outputs": true,
      "toc_visible": true,
      "authorship_tag": "ABX9TyOd2Cmd27NYO44QHmouO8TD",
      "include_colab_link": true
    },
    "kernelspec": {
      "name": "python3",
      "display_name": "Python 3"
    },
    "language_info": {
      "name": "python"
    },
    "gpuClass": "standard",
    "accelerator": "GPU"
  },
  "cells": [
    {
      "cell_type": "markdown",
      "metadata": {
        "id": "view-in-github",
        "colab_type": "text"
      },
      "source": [
        "<a href=\"https://colab.research.google.com/github/Thierrykev/personnal_projects/blob/main/d%C3%A9tection_de_fraude_sur_les_cartes_de_cr%C3%A9dit_.ipynb\" target=\"_parent\"><img src=\"https://colab.research.google.com/assets/colab-badge.svg\" alt=\"Open In Colab\"/></a>"
      ]
    },
    {
      "cell_type": "markdown",
      "source": [],
      "metadata": {
        "id": "ZBB-eLPWIJ_d"
      }
    },
    {
      "cell_type": "code",
      "execution_count": null,
      "metadata": {
        "id": "qCmDdZ-yHLuM"
      },
      "outputs": [],
      "source": [
        "import pandas as pd \n",
        "import numpy as np\n",
        "import matplotlib.pyplot as plt \n",
        "import seaborn as sns \n",
        "import sklearn \n",
        "import scipy \n",
        "from sklearn.metrics import classification_report ,accuracy_score "
      ]
    },
    {
      "cell_type": "code",
      "source": [],
      "metadata": {
        "id": "Tjl1BXth6uaN"
      },
      "execution_count": null,
      "outputs": []
    },
    {
      "cell_type": "code",
      "source": [],
      "metadata": {
        "id": "v4LPQ1-56v4z"
      },
      "execution_count": null,
      "outputs": []
    },
    {
      "cell_type": "code",
      "source": [
        "from sklearn.ensemble import IsolationForest \n"
      ],
      "metadata": {
        "id": "h1o2qA_5HSVC"
      },
      "execution_count": null,
      "outputs": []
    },
    {
      "cell_type": "markdown",
      "source": [],
      "metadata": {
        "id": "5ZKr4g8FLSq0"
      }
    },
    {
      "cell_type": "code",
      "source": [
        "from google.colab import drive \n",
        "drive.mount('/content/drive')"
      ],
      "metadata": {
        "id": "Djq5zzREHaZe"
      },
      "execution_count": null,
      "outputs": []
    },
    {
      "cell_type": "code",
      "source": [
        "df=pd.read_csv(\"/content/drive/MyDrive/Credit+Card+Fraud+Using+Pycaret+-Code+and+Files/Code and Files/creditcard.csv\")"
      ],
      "metadata": {
        "id": "C2d6JFqzIUK7"
      },
      "execution_count": null,
      "outputs": []
    },
    {
      "cell_type": "code",
      "source": [
        "df.head()"
      ],
      "metadata": {
        "id": "YTLIwcw-JNXC"
      },
      "execution_count": null,
      "outputs": []
    },
    {
      "cell_type": "markdown",
      "source": [
        "Data analysis "
      ],
      "metadata": {
        "id": "YzsfA4YYJlAQ"
      }
    },
    {
      "cell_type": "code",
      "source": [
        "df.shape"
      ],
      "metadata": {
        "id": "A3cWbDmJJULO"
      },
      "execution_count": null,
      "outputs": []
    },
    {
      "cell_type": "code",
      "source": [
        "df.isnull().sum()"
      ],
      "metadata": {
        "id": "Kh4NTJgOJy0M"
      },
      "execution_count": null,
      "outputs": []
    },
    {
      "cell_type": "markdown",
      "source": [
        "Notre jeu de données n'a pas de valeurs manquante "
      ],
      "metadata": {
        "id": "4D_LeaC2KCE1"
      }
    },
    {
      "cell_type": "markdown",
      "source": [
        "Lets us visualize the normal and fraud cases in our data Set with a barplot "
      ],
      "metadata": {
        "id": "KYr_LWwFKyOc"
      }
    },
    {
      "cell_type": "code",
      "source": [
        "fraud_check=pd.value_counts(df['Class'],sort=True)\n",
        "fraud_check.plot(kind='bar',rot=0,color='r')\n",
        "plt.title(\"normal and fraud cases \")\n",
        "plt.xlabel(\"Class\")\n",
        "plt.ylabel(\"Frequency\")\n",
        "labels=['Normal','Fraud']\n",
        "plt.xticks(range(2),labels)\n",
        "plt.show()"
      ],
      "metadata": {
        "id": "icMyQN7WKAS2"
      },
      "execution_count": null,
      "outputs": []
    },
    {
      "cell_type": "markdown",
      "source": [
        "we observe that our dataset is unbalanced because the most part of our echantillon is normal cases "
      ],
      "metadata": {
        "id": "RWsr3_BNM4Rd"
      }
    },
    {
      "cell_type": "code",
      "source": [
        "normal_case=df[df['Class']==0]\n",
        "fraud_case=df[df['Class']==1]"
      ],
      "metadata": {
        "id": "SOJyVLEwMw8G"
      },
      "execution_count": null,
      "outputs": []
    },
    {
      "cell_type": "code",
      "source": [
        "\n",
        "fraud_case.shape "
      ],
      "metadata": {
        "id": "gbFGJZb9OUCZ"
      },
      "execution_count": null,
      "outputs": []
    },
    {
      "cell_type": "code",
      "source": [
        "normal_case.shape"
      ],
      "metadata": {
        "id": "7njdp_ByOgMw"
      },
      "execution_count": null,
      "outputs": []
    },
    {
      "cell_type": "markdown",
      "source": [
        "finding out the quartiles of amount in both the data sets  "
      ],
      "metadata": {
        "id": "wMAZicwvO11o"
      }
    },
    {
      "cell_type": "code",
      "source": [
        "fraud_case['Amount'].describe()\n",
        "\n"
      ],
      "metadata": {
        "id": "b1P_3R-8OnHZ"
      },
      "execution_count": null,
      "outputs": []
    },
    {
      "cell_type": "code",
      "source": [
        "normal_case['Amount'].describe()"
      ],
      "metadata": {
        "id": "H5bLCu7iQM8S"
      },
      "execution_count": null,
      "outputs": []
    },
    {
      "cell_type": "markdown",
      "source": [
        "Let us visualize it "
      ],
      "metadata": {
        "id": "F_BUQPtaQquA"
      }
    },
    {
      "cell_type": "code",
      "source": [
        "graph,(plot1,plot2)=plt.subplots(2,1 ,sharex=True)\n",
        "graph.suptitle('Distribution of amount per cases ')\n",
        "bins=70\n",
        "\n",
        "plot1.hist(fraud_case['Amount'],bins =bins)\n",
        "plot1.set_title('Fraud Amount')\n",
        "\n",
        "plot2.hist(normal_case['Amount'],bins =bins)\n",
        "plot2.set_title('Normal Amount')\n",
        "\n",
        "plt.xlabel('Amount(Euros)')\n",
        "plt.ylabel('Number of transactions')\n",
        "plt.yscale('log')\n",
        "\n",
        "plt.show();\n"
      ],
      "metadata": {
        "id": "1q0W3SQtRzaq"
      },
      "execution_count": null,
      "outputs": []
    },
    {
      "cell_type": "markdown",
      "source": [
        "Plotting a corr Heatmap"
      ],
      "metadata": {
        "id": "7Ll1WQWdUyMB"
      }
    },
    {
      "cell_type": "code",
      "source": [
        "df.corr()\n",
        "plt.figure(figsize=(30,30))\n",
        "g=sns.heatmap(df.corr(),annot=True)"
      ],
      "metadata": {
        "id": "MyKUYkBAUn5x"
      },
      "execution_count": null,
      "outputs": []
    },
    {
      "cell_type": "markdown",
      "source": [
        "All our variables are less correlated which is normal because our variables are issued from an ACP"
      ],
      "metadata": {
        "id": "nOZJ90TqVbm_"
      }
    },
    {
      "cell_type": "markdown",
      "source": [
        "Let us our dependent and independents Features "
      ],
      "metadata": {
        "id": "wjIegBXPW59g"
      }
    },
    {
      "cell_type": "code",
      "source": [
        "columns=df.columns.tolist()\n",
        "#our independents variables \n",
        "columns=[var for var in columns if var not in ['Class']]\n",
        "x=df[columns]\n",
        "#the dependent variable \n",
        "y=df['Class']"
      ],
      "metadata": {
        "id": "i_bH30yvWZkY"
      },
      "execution_count": null,
      "outputs": []
    },
    {
      "cell_type": "code",
      "source": [
        "y.shape"
      ],
      "metadata": {
        "id": "fBC5N9c4X0Px"
      },
      "execution_count": null,
      "outputs": []
    },
    {
      "cell_type": "code",
      "source": [
        "x.shape"
      ],
      "metadata": {
        "id": "kljEqCBvX4nr"
      },
      "execution_count": null,
      "outputs": []
    },
    {
      "cell_type": "markdown",
      "source": [
        "Now , we are going to separate our dataset before building our model "
      ],
      "metadata": {
        "id": "RuVcD-NDYF0G"
      }
    },
    {
      "cell_type": "code",
      "source": [
        "from sklearn.model_selection import train_test_split\n",
        "x_train,x_test,y_train,y_test=train_test_split(x,y,test_size=0.25,random_state=42)"
      ],
      "metadata": {
        "id": "0SL_PxKcX69Q"
      },
      "execution_count": null,
      "outputs": []
    },
    {
      "cell_type": "markdown",
      "source": [
        "We are going to use Isolation forest because whe have a high dimension problem and  whe are dealing with a problem of anomaly detection "
      ],
      "metadata": {
        "id": "5LpzVK_oZwbW"
      }
    },
    {
      "cell_type": "code",
      "source": [
        "from sklearn.ensemble import IsolationForest\n",
        "model=IsolationForest(n_estimators=100,max_samples=len(x_train),random_state=0,verbose=0)\n",
        "model.fit(x_train,y_train)"
      ],
      "metadata": {
        "id": "L_msCcvSZwEg"
      },
      "execution_count": null,
      "outputs": []
    },
    {
      "cell_type": "code",
      "source": [
        "y_pred=model.predict(x_test)"
      ],
      "metadata": {
        "id": "0I3vAxIWdICS"
      },
      "execution_count": null,
      "outputs": []
    },
    {
      "cell_type": "code",
      "source": [
        "y_pred"
      ],
      "metadata": {
        "id": "S17UW8HndTPi"
      },
      "execution_count": null,
      "outputs": []
    },
    {
      "cell_type": "code",
      "source": [],
      "metadata": {
        "id": "FtGXRdx8eIC7"
      },
      "execution_count": null,
      "outputs": []
    },
    {
      "cell_type": "code",
      "source": [
        "y_pred[y_pred==1]=0\n",
        "\n",
        "y_pred[y_pred==-1]=1"
      ],
      "metadata": {
        "id": "x7RWWXdLfSmY"
      },
      "execution_count": null,
      "outputs": []
    },
    {
      "cell_type": "code",
      "source": [
        "y_pred=y_pred.reshape(71202,1)"
      ],
      "metadata": {
        "id": "aAemtm_MgSKb"
      },
      "execution_count": null,
      "outputs": []
    },
    {
      "cell_type": "code",
      "source": [
        "from sklearn.metrics._plot.confusion_matrix import confusion_matrix\n",
        "confusion_matrix(y_test,y_pred)"
      ],
      "metadata": {
        "id": "-YcsQM7Wft2j"
      },
      "execution_count": null,
      "outputs": []
    },
    {
      "cell_type": "markdown",
      "source": [
        "Acuuracy and Matrix"
      ],
      "metadata": {
        "id": "fW3knscShIqR"
      }
    },
    {
      "cell_type": "code",
      "source": [
        "print(accuracy_score(y_test,y_pred))\n"
      ],
      "metadata": {
        "id": "JJQSKOUfhAAV"
      },
      "execution_count": null,
      "outputs": []
    },
    {
      "cell_type": "code",
      "source": [],
      "metadata": {
        "id": "RIGNRRsbFmQ1"
      },
      "execution_count": null,
      "outputs": []
    },
    {
      "cell_type": "code",
      "source": [
        "print(classification_report(y_test,y_pred))"
      ],
      "metadata": {
        "id": "ObffK32lhf92"
      },
      "execution_count": null,
      "outputs": []
    },
    {
      "cell_type": "markdown",
      "source": [],
      "metadata": {
        "id": "h29sIEMUGKYh"
      }
    },
    {
      "cell_type": "code",
      "source": [
        "y_pred"
      ],
      "metadata": {
        "id": "4L1qdjSQl0xn"
      },
      "execution_count": null,
      "outputs": []
    },
    {
      "cell_type": "code",
      "source": [
        "y_test=np.array(y_test)"
      ],
      "metadata": {
        "id": "6VQPG219l9JC"
      },
      "execution_count": null,
      "outputs": []
    },
    {
      "cell_type": "code",
      "source": [
        "y_test"
      ],
      "metadata": {
        "id": "lukSK6zioL2x"
      },
      "execution_count": null,
      "outputs": []
    },
    {
      "cell_type": "code",
      "source": [
        "!pip install Pycaret"
      ],
      "metadata": {
        "id": "4pj6BjNWpkeh"
      },
      "execution_count": null,
      "outputs": []
    },
    {
      "cell_type": "markdown",
      "source": [
        "Let us train our model by using pycaret which is a library of AutoML\n",
        " "
      ],
      "metadata": {
        "id": "tEgBx_oDp6Fm"
      }
    },
    {
      "cell_type": "code",
      "source": [
        "from pycaret.classification import *\n",
        "model=setup(data=df,target='Class')"
      ],
      "metadata": {
        "id": "W_N7dyxxqf9T"
      },
      "execution_count": null,
      "outputs": []
    },
    {
      "cell_type": "code",
      "source": [
        "rf = create_model('rf', fold=3)"
      ],
      "metadata": {
        "id": "Z1X-lSsy63MO"
      },
      "execution_count": null,
      "outputs": []
    },
    {
      "cell_type": "markdown",
      "source": [
        "we have a higher AUC( NEAR to 1) so our model has a great ability to make the difference between a fraud case and a normal case "
      ],
      "metadata": {
        "id": "nYKGCGKQCl0h"
      }
    },
    {
      "cell_type": "code",
      "source": [
        "rf"
      ],
      "metadata": {
        "id": "_1DZXZrtDPgI"
      },
      "execution_count": null,
      "outputs": []
    },
    {
      "cell_type": "code",
      "source": [
        "y_pred1=predict_model(rf,data=x_test)"
      ],
      "metadata": {
        "id": "rYfMHN2EEK5W"
      },
      "execution_count": null,
      "outputs": []
    },
    {
      "cell_type": "code",
      "source": [
        "y_pred1"
      ],
      "metadata": {
        "id": "8JaHPyfNEchr"
      },
      "execution_count": null,
      "outputs": []
    },
    {
      "cell_type": "code",
      "source": [
        "y_pred1=y_pred1[\"prediction_label\"]"
      ],
      "metadata": {
        "id": "-xLrPKySFTnS"
      },
      "execution_count": null,
      "outputs": []
    },
    {
      "cell_type": "code",
      "source": [
        "y_pred1"
      ],
      "metadata": {
        "id": "CxWx31VlFeSm"
      },
      "execution_count": null,
      "outputs": []
    },
    {
      "cell_type": "code",
      "source": [
        "print(accuracy_score(y_test,y_pred1))"
      ],
      "metadata": {
        "id": "pOvVFMDPFnnj"
      },
      "execution_count": null,
      "outputs": []
    },
    {
      "cell_type": "markdown",
      "source": [
        "This new model is better than the last one because ll the parameters of precision are higher( more than 0.8) than the ones in last model which has been builed whith Isolation Forest ."
      ],
      "metadata": {
        "id": "1LJtO9AyGNLl"
      }
    },
    {
      "cell_type": "code",
      "source": [
        "print(confusion_matrix(y_test,y_pred1))"
      ],
      "metadata": {
        "id": "oORs_ScfG5PY"
      },
      "execution_count": null,
      "outputs": []
    },
    {
      "cell_type": "markdown",
      "source": [],
      "metadata": {
        "id": "_bOW5s4mIDdI"
      }
    },
    {
      "cell_type": "markdown",
      "source": [
        "we have only 10 bad predictions "
      ],
      "metadata": {
        "id": "J1ZzqYLnHLGc"
      }
    }
  ]
}